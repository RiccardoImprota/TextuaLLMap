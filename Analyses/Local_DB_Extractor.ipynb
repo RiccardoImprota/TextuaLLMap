{
 "cells": [
  {
   "cell_type": "code",
   "execution_count": null,
   "metadata": {},
   "outputs": [],
   "source": [
    "from emoatlas import EmoScores\n",
    "import os\n",
    "import json\n",
    "import re\n",
    "from pprint import pprint\n",
    "from collections import defaultdict\n",
    "nltk.download('wordnet') #English\n",
    "nltk.download('omw-1.4') #Italian"
   ]
  },
  {
   "cell_type": "code",
   "execution_count": 2,
   "metadata": {},
   "outputs": [],
   "source": [
    "emos = EmoScores()\n",
    "emosita = EmoScores(language='italian')"
   ]
  },
  {
   "cell_type": "code",
   "execution_count": null,
   "metadata": {},
   "outputs": [],
   "source": [
    "\n",
    "# Define the base directory containing the folders of interest\n",
    "base_dir = 'texts'\n",
    "base_output_dir = \"localdb\"\n",
    "\n",
    "# Folders of interest\n",
    "folders_of_interest = ['climate', 'math', 'misinformation_health','gwarming']\n",
    "folders_of_interest = ['climate']\n",
    "\n"
   ]
  },
  {
   "cell_type": "code",
   "execution_count": 4,
   "metadata": {},
   "outputs": [],
   "source": [
    "def extract_model(filename):\n",
    "    match = re.search(r'_(.*?)_', filename)\n",
    "    if match:\n",
    "        return match.group(1)\n",
    "    return None\n",
    "\n",
    "def get_output_file(base_output_dir, model, topic):\n",
    "    # Create directory if it doesn't exist\n",
    "    os.makedirs(base_output_dir, exist_ok=True)\n",
    "    return os.path.join(base_output_dir, topic ,f\"{model}.jsonl\")\n",
    "\n"
   ]
  },
  {
   "cell_type": "code",
   "execution_count": null,
   "metadata": {},
   "outputs": [
    {
     "name": "stdout",
     "output_type": "stream",
     "text": [
      "gwarming c)riscaldamento_LLaMAntino-2(ITA)_chat-13b_Q5_K_M.json\n",
      "gwarming b)riscaldamento_GPT-3.5(ITA)_turbo-0125.json\n",
      "gwarming a)riscaldamento_Haiku(ITA)_20240307_temp0-5.json\n"
     ]
    }
   ],
   "source": [
    "\n",
    "for folder in folders_of_interest:\n",
    "    folder_path = os.path.join(base_dir, folder)\n",
    "    \n",
    "\n",
    "    for filename in os.listdir(folder_path):\n",
    "\n",
    "\n",
    "        file_path = os.path.join(folder_path, filename)\n",
    "\n",
    "        if '(ITA)' not in file_path:\n",
    "            continue\n",
    "        model = extract_model(filename)\n",
    "        output_file = get_output_file(base_output_dir, model, folder)\n",
    "        print(folder, filename)\n",
    "\n",
    "        with open(file_path, 'r') as infile, open(output_file, 'a') as outfile:\n",
    "            data = json.load(infile)\n",
    "\n",
    "            for testo in data:\n",
    "                output = {\n",
    "                    'topic': folder,\n",
    "                    'model': model,\n",
    "                    'text': testo\n",
    "                }\n",
    "##\n",
    "                if '(ITA)' in file_path:\n",
    "                    output['language'] = 'ITA'\n",
    "                    #zscores_list = []\n",
    "                    #for _ in range(10):\n",
    "                    #    emosita.set_baseline()\n",
    "                    #    emotion_scores = emosita.zscores(testo)\n",
    "                    #    zscores_list.append(emotion_scores)\n",
    "                    output['zscores'] = emosita.zscores(testo)\n",
    "                    \n",
    "                    fmnt = emosita.formamentis_network(testo,semantic_enrichment=['synonyms'],multiplex=True)\n",
    "                    output['fmnt'] = fmnt.edges\n",
    "                    output['lemmatized_text'] = emosita.lemmatize_text(testo)\n",
    "                else:\n",
    "                    output['language'] = 'ENG'\n",
    "                    #zscores_list = []\n",
    "                    #for _ in range(10):\n",
    "                    #    emos.set_baseline()\n",
    "                    #    emotion_scores = emos.zscores(testo)\n",
    "                    #    zscores_list.append(emotion_scores)\n",
    "                    output['zscores'] = emos.zscores(testo)\n",
    "                    fmnt = emos.formamentis_network(testo,semantic_enrichment=['synonyms'],multiplex=True)\n",
    "                    output['fmnt'] = fmnt.edges\n",
    "                    output['lemmatized_text'] = emos.lemmatize_text(testo)\n",
    "                    \n",
    "                \n",
    "##\n",
    "                # Write the output to the file as a JSON line\n",
    "                json.dump(output, outfile)\n",
    "                outfile.write('\\n')\n",
    "                outfile.flush()\n",
    "                "
   ]
  },
  {
   "cell_type": "code",
   "execution_count": null,
   "metadata": {},
   "outputs": [],
   "source": []
  }
 ],
 "metadata": {
  "kernelspec": {
   "display_name": "emoatlas_ennemesino",
   "language": "python",
   "name": "python3"
  },
  "language_info": {
   "codemirror_mode": {
    "name": "ipython",
    "version": 3
   },
   "file_extension": ".py",
   "mimetype": "text/x-python",
   "name": "python",
   "nbconvert_exporter": "python",
   "pygments_lexer": "ipython3",
   "version": "3.11.7"
  }
 },
 "nbformat": 4,
 "nbformat_minor": 2
}
