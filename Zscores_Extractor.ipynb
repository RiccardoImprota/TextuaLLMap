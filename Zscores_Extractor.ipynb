{
 "cells": [
  {
   "cell_type": "code",
   "execution_count": 1,
   "metadata": {},
   "outputs": [],
   "source": [
    "from emoatlas import EmoScores\n",
    "import os\n",
    "import json\n",
    "import re\n",
    "from pprint import pprint\n",
    "\n",
    "\n",
    "emos = EmoScores()\n",
    "emosita = EmoScores(language='italian')\n",
    "#emos._tagger.max_length = 4000000"
   ]
  },
  {
   "cell_type": "code",
   "execution_count": 2,
   "metadata": {},
   "outputs": [],
   "source": [
    "\n",
    "# Define the base directory containing the folders of interest\n",
    "base_dir = 'texts'\n",
    "\n",
    "# Folders of interest\n",
    "folders_of_interest = ['climate', 'math', 'misinformation_health','gwarming']\n",
    "emotions = ['anger', 'trust', 'surprise', 'disgust', 'joy', 'sadness', 'fear', 'anticipation']"
   ]
  },
  {
   "cell_type": "code",
   "execution_count": 3,
   "metadata": {},
   "outputs": [],
   "source": [
    "def extract_model(filename):\n",
    "    match = re.search(r'_(.*?)_', filename)\n",
    "    if match:\n",
    "        return match.group(1)\n",
    "    return None\n"
   ]
  },
  {
   "cell_type": "code",
   "execution_count": 4,
   "metadata": {},
   "outputs": [],
   "source": [
    "def compute_z_scores(file_path):\n",
    "\n",
    "    output = {emotion: [] for emotion in emotions}\n",
    "\n",
    "\n",
    "    with open(file_path, 'r') as file:\n",
    "            data = json.load(file)\n",
    "\n",
    "            for testo in data:\n",
    "                if '(ITA)' in file_path:\n",
    "                    zscores=emosita.zscores(testo)\n",
    "                else:\n",
    "                    zscores=emos.zscores(testo)\n",
    "\n",
    "                for emotion in zscores:\n",
    "                    output[emotion].append(zscores[emotion])\n",
    "\n",
    "    return output\n"
   ]
  },
  {
   "cell_type": "code",
   "execution_count": 5,
   "metadata": {},
   "outputs": [
    {
     "name": "stdout",
     "output_type": "stream",
     "text": [
      "Saving Z-score for file a)cambiamento_claude-haiku(ITA)_20240307_temp0-5.json.\n",
      "Saving Z-score for file b)cambiamento_gpt-3.5(ITA)_turbo-0125.json.\n",
      "Saving Z-score for file c)cambiamento_LLaMAntino-2(ITA)_chat-13b_Q5_K_M.json.\n",
      "Saving Z-score for file d)climate_claude-haiku_20240307_temp0-5.json.\n",
      "Saving Z-score for file e)change_gpt-3.5_turbo-0125_eng.json.\n",
      "Saving Z-score for file f)change_Llama-3-8B_Instruct-Q6_K_temp0-5.json.\n",
      "Saving Z-score for file g)change_mistral-7b_instruct-v0.2.Q8_0.json.\n",
      "Saving Z-score for file matematica_claude-haiku(ITA)_20240307_temp0-5.json.\n",
      "Saving Z-score for file matematica_gpt-3.5(ITA)_turbo-0125_ita.json.\n",
      "Saving Z-score for file matematica_LLaMAntino-2(ITA)_chat-13b_Q5_K_M.json.\n",
      "Saving Z-score for file math_claude-haiku_20240307_temp0-5.json.\n",
      "Saving Z-score for file math_gpt-3.5_turbo-0125.json.\n",
      "Saving Z-score for file math_Llama-3-8B_Instruct-Q6_K_temp0-5.json.\n",
      "Saving Z-score for file math_mistral-7b_instruct-v0.2.Q8_0.json.\n",
      "Saving Z-score for file bufalesalute_claude-haiku(ITA)_20240307_temp0-5.json.\n",
      "Saving Z-score for file bufalesalute_gpt-3.5(ITA)_turbo-0125_ita.json.\n",
      "Saving Z-score for file bufalesalute_LLaMAntino-2(ITA)_chat-13b_Q5_K_M.json.\n",
      "Saving Z-score for file misinformationhealth_claude-haiku_20240307_temp0-5.json.\n",
      "Saving Z-score for file misinformationhealth_gpt-3.5_turbo-0125.json.\n",
      "Saving Z-score for file misinformationhealth_Llama-3-8B_Instruct-Q6_K_temp0-5.json.\n",
      "Saving Z-score for file misinformationhealth_mistral-7b_instruct-v0.2_Q8_0.json.\n",
      "Saving Z-score for file a)riscaldamento_claude-haiku(ITA)_20240307_temp0-5.json.\n",
      "Saving Z-score for file b)riscaldamento_gpt-3.5(ITA)_turbo-0125.json.\n",
      "Saving Z-score for file c)riscaldamento_LLaMAntino-2(ITA)_chat-13b_Q5_K_M.json.\n",
      "Saving Z-score for file d)gwarming_claude-haiku_20240307_temp0-5.json.\n",
      "Saving Z-score for file e)gwarming_gpt-3.5_turbo-0125.json.\n",
      "Saving Z-score for file f)gwarming_Llama-3-8B_Instruct-Q6_K_temp0-5.json.\n",
      "Saving Z-score for file g)gwarming_mistral-7b_instruct-v0.2.Q8_0.json.\n"
     ]
    }
   ],
   "source": [
    "#Looping through folders\n",
    "for folder in folders_of_interest:\n",
    "    folder_path = os.path.join(base_dir, folder)\n",
    "\n",
    "    #Looping through files\n",
    "    for filename in os.listdir(folder_path):\n",
    "        file_path = os.path.join(folder_path, filename)\n",
    "        output_path = os.path.join('zscores', folder, f'{filename}.json')\n",
    "\n",
    "        # Check if the z-score file already exists\n",
    "        if os.path.exists(output_path):\n",
    "            print(f\"Z-score file already exists for {filename}. Skipping computation.\")\n",
    "            continue\n",
    "        \n",
    "        # Compute z-scores\n",
    "        zscores = compute_z_scores(file_path)\n",
    "\n",
    "        # Create directories if they do not exist\n",
    "        os.makedirs(os.path.dirname(output_path), exist_ok=True)\n",
    "        print(f\"Saving Z-score for file {filename}.\")\n",
    "        # Write z-scores to the JSON file\n",
    "        with open(output_path, 'w') as json_file:\n",
    "            json.dump(zscores, json_file, indent=1)"
   ]
  },
  {
   "cell_type": "code",
   "execution_count": null,
   "metadata": {},
   "outputs": [],
   "source": []
  },
  {
   "cell_type": "code",
   "execution_count": null,
   "metadata": {},
   "outputs": [],
   "source": []
  }
 ],
 "metadata": {
  "kernelspec": {
   "display_name": "emoatlas_ennemesino",
   "language": "python",
   "name": "python3"
  },
  "language_info": {
   "codemirror_mode": {
    "name": "ipython",
    "version": 3
   },
   "file_extension": ".py",
   "mimetype": "text/x-python",
   "name": "python",
   "nbconvert_exporter": "python",
   "pygments_lexer": "ipython3",
   "version": "3.11.7"
  }
 },
 "nbformat": 4,
 "nbformat_minor": 2
}
